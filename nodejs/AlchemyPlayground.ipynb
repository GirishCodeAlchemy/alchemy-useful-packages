{
 "cells": [
  {
   "cell_type": "markdown",
   "metadata": {},
   "source": [
    "# GirishCodeAlchemy Playground - Nodejs"
   ]
  },
  {
   "cell_type": "code",
   "execution_count": 5,
   "metadata": {},
   "outputs": [
    {
     "name": "stdout",
     "output_type": "stream",
     "text": [
      "Hello World\n"
     ]
    }
   ],
   "source": [
    "console.log(\"Hello World\")\n"
   ]
  },
  {
   "cell_type": "markdown",
   "metadata": {},
   "source": [
    "## Text art using [figlet](https://www.npmjs.com/package/figlet)"
   ]
  },
  {
   "cell_type": "code",
   "execution_count": 4,
   "metadata": {},
   "outputs": [
    {
     "name": "stdout",
     "output_type": "stream",
     "text": [
      "   ____ _      _     _      ____          _         _    _      _                          \n",
      "  / ___(_)_ __(_)___| |__  / ___|___   __| | ___   / \\  | | ___| |__   ___ _ __ ___  _   _ \n",
      " | |  _| | '__| / __| '_ \\| |   / _ \\ / _` |/ _ \\ / _ \\ | |/ __| '_ \\ / _ \\ '_ ` _ \\| | | |\n",
      " | |_| | | |  | \\__ \\ | | | |__| (_) | (_| |  __// ___ \\| | (__| | | |  __/ | | | | | |_| |\n",
      "  \\____|_|_|  |_|___/_| |_|\\____\\___/ \\__,_|\\___/_/   \\_\\_|\\___|_| |_|\\___|_| |_| |_|\\__, |\n",
      "                                                                                     |___/ \n",
      ".-. .-')                            ,---. \n",
      "\\  ( OO )                           |   | \n",
      " ;-----.\\  .-'),-----.  .-'),-----. |   | \n",
      " | .-.  | ( OO'  .-.  '( OO'  .-.  '|   | \n",
      " | '-' /_)/   |  | |  |/   |  | |  ||   | \n",
      " | .-. `. \\_) |  |\\|  |\\_) |  |\\|  ||  .' \n",
      " | |  \\  |  \\ |  | |  |  \\ |  | |  |`--'  \n",
      " | '--'  /   `'  '-'  '   `'  '-'  '.--.  \n",
      " `------'      `-----'      `-----' '--'  \n"
     ]
    },
    {
     "data": {
      "text/plain": [
       "Promise { <pending> }"
      ]
     },
     "execution_count": 4,
     "metadata": {},
     "output_type": "execute_result"
    }
   ],
   "source": [
    "var figlet = require(\"figlet\");\n",
    "figlet('GirishCodeAlchemy', function(err, data) {\n",
    "    console.log(err || data)\n",
    "})\n",
    "\n",
    "figlet.text(\n",
    "    \"Boo!\",\n",
    "    {\n",
    "      font: \"Ghost\",\n",
    "      horizontalLayout: \"default\",\n",
    "      verticalLayout: \"default\",\n",
    "      width: 80,\n",
    "      whitespaceBreak: true,\n",
    "    },\n",
    "    function (err, data) {\n",
    "      if (err) {\n",
    "        console.log(\"Something went wrong...\");\n",
    "        console.dir(err);\n",
    "        return;\n",
    "      }\n",
    "      console.log(data);\n",
    "    }\n",
    "  );\n",
    "\n"
   ]
  }
 ],
 "metadata": {
  "kernelspec": {
   "display_name": "JavaScript (Node.js)",
   "language": "javascript",
   "name": "javascript"
  },
  "language_info": {
   "file_extension": ".js",
   "mimetype": "application/javascript",
   "name": "javascript",
   "version": "20.8.1"
  }
 },
 "nbformat": 4,
 "nbformat_minor": 2
}
