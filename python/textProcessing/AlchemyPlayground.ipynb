{
 "cells": [
  {
   "cell_type": "markdown",
   "metadata": {},
   "source": [
    "# GirishCodeAlchemy Playground"
   ]
  },
  {
   "cell_type": "markdown",
   "metadata": {},
   "source": [
    "## Text  Processing with [Pyfiglet](https://pypi.org/project/pyfiglet/) and [Colorama](https://pypi.org/project/colorama/)"
   ]
  },
  {
   "cell_type": "code",
   "execution_count": 1,
   "metadata": {},
   "outputs": [
    {
     "name": "stdout",
     "output_type": "stream",
     "text": [
      "  ____ _      _     _      ____          _         _    _      _                          \n",
      " / ___(_)_ __(_)___| |__  / ___|___   __| | ___   / \\  | | ___| |__   ___ _ __ ___  _   _ \n",
      "| |  _| | '__| / __| '_ \\| |   / _ \\ / _` |/ _ \\ / _ \\ | |/ __| '_ \\ / _ \\ '_ ` _ \\| | | |\n",
      "| |_| | | |  | \\__ \\ | | | |__| (_) | (_| |  __// ___ \\| | (__| | | |  __/ | | | | | |_| |\n",
      " \\____|_|_|  |_|___/_| |_|\\____\\___/ \\__,_|\\___/_/   \\_\\_|\\___|_| |_|\\___|_| |_| |_|\\__, |\n",
      "                                                                                    |___/ \n",
      "\n"
     ]
    }
   ],
   "source": [
    "\n",
    "from pyfiglet import figlet_format\n",
    "\n",
    "name = \"GirishCodeAlchemy\"\n",
    "formatted_text = figlet_format(name, font=\"standard\", width=100)\n",
    "\n",
    "# Print the name in a single line\n",
    "print(formatted_text)\n"
   ]
  },
  {
   "cell_type": "markdown",
   "metadata": {},
   "source": [
    "### To add color to the text"
   ]
  },
  {
   "cell_type": "code",
   "execution_count": 2,
   "metadata": {},
   "outputs": [],
   "source": [
    "from colorama import Fore"
   ]
  },
  {
   "cell_type": "code",
   "execution_count": 3,
   "metadata": {},
   "outputs": [
    {
     "name": "stdout",
     "output_type": "stream",
     "text": [
      "\u001b[32m  ____ _      _     _      ____          _         _    _      _                          \n",
      " / ___(_)_ __(_)___| |__  / ___|___   __| | ___   / \\  | | ___| |__   ___ _ __ ___  _   _ \n",
      "| |  _| | '__| / __| '_ \\| |   / _ \\ / _` |/ _ \\ / _ \\ | |/ __| '_ \\ / _ \\ '_ ` _ \\| | | |\n",
      "| |_| | | |  | \\__ \\ | | | |__| (_) | (_| |  __// ___ \\| | (__| | | |  __/ | | | | | |_| |\n",
      " \\____|_|_|  |_|___/_| |_|\\____\\___/ \\__,_|\\___/_/   \\_\\_|\\___|_| |_|\\___|_| |_| |_|\\__, |\n",
      "                                                                                    |___/ \n",
      "\n",
      "\u001b[39m\n"
     ]
    }
   ],
   "source": [
    "\n",
    "print(Fore.GREEN + formatted_text)\n",
    "\n",
    "# Reset colorama to avoid color bleeding in the terminal\n",
    "print(Fore.RESET)"
   ]
  }
 ],
 "metadata": {
  "kernelspec": {
   "display_name": "Python 3",
   "language": "python",
   "name": "python3"
  },
  "language_info": {
   "codemirror_mode": {
    "name": "ipython",
    "version": 3
   },
   "file_extension": ".py",
   "mimetype": "text/x-python",
   "name": "python",
   "nbconvert_exporter": "python",
   "pygments_lexer": "ipython3",
   "version": "3.10.13"
  }
 },
 "nbformat": 4,
 "nbformat_minor": 2
}
