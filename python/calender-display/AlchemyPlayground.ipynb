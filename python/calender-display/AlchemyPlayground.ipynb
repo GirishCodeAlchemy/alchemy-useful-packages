{
 "cells": [
  {
   "cell_type": "markdown",
   "metadata": {},
   "source": [
    "# GirishCodeAlchemy Playground"
   ]
  },
  {
   "cell_type": "markdown",
   "metadata": {},
   "source": [
    "## Display Calender"
   ]
  },
  {
   "cell_type": "code",
   "execution_count": 1,
   "metadata": {},
   "outputs": [
    {
     "name": "stdout",
     "output_type": "stream",
     "text": [
      "                                  2024\n",
      "\n",
      "      January                   February                   March\n",
      "Mo Tu We Th Fr Sa Su      Mo Tu We Th Fr Sa Su      Mo Tu We Th Fr Sa Su\n",
      " 1  2  3  4  5  6  7                1  2  3  4                   1  2  3\n",
      " 8  9 10 11 12 13 14       5  6  7  8  9 10 11       4  5  6  7  8  9 10\n",
      "15 16 17 18 19 20 21      12 13 14 15 16 17 18      11 12 13 14 15 16 17\n",
      "22 23 24 25 26 27 28      19 20 21 22 23 24 25      18 19 20 21 22 23 24\n",
      "29 30 31                  26 27 28 29               25 26 27 28 29 30 31\n",
      "\n",
      "       April                      May                       June\n",
      "Mo Tu We Th Fr Sa Su      Mo Tu We Th Fr Sa Su      Mo Tu We Th Fr Sa Su\n",
      " 1  2  3  4  5  6  7             1  2  3  4  5                      1  2\n",
      " 8  9 10 11 12 13 14       6  7  8  9 10 11 12       3  4  5  6  7  8  9\n",
      "15 16 17 18 19 20 21      13 14 15 16 17 18 19      10 11 12 13 14 15 16\n",
      "22 23 24 25 26 27 28      20 21 22 23 24 25 26      17 18 19 20 21 22 23\n",
      "29 30                     27 28 29 30 31            24 25 26 27 28 29 30\n",
      "\n",
      "        July                     August                  September\n",
      "Mo Tu We Th Fr Sa Su      Mo Tu We Th Fr Sa Su      Mo Tu We Th Fr Sa Su\n",
      " 1  2  3  4  5  6  7                1  2  3  4                         1\n",
      " 8  9 10 11 12 13 14       5  6  7  8  9 10 11       2  3  4  5  6  7  8\n",
      "15 16 17 18 19 20 21      12 13 14 15 16 17 18       9 10 11 12 13 14 15\n",
      "22 23 24 25 26 27 28      19 20 21 22 23 24 25      16 17 18 19 20 21 22\n",
      "29 30 31                  26 27 28 29 30 31         23 24 25 26 27 28 29\n",
      "                                                    30\n",
      "\n",
      "      October                   November                  December\n",
      "Mo Tu We Th Fr Sa Su      Mo Tu We Th Fr Sa Su      Mo Tu We Th Fr Sa Su\n",
      "    1  2  3  4  5  6                   1  2  3                         1\n",
      " 7  8  9 10 11 12 13       4  5  6  7  8  9 10       2  3  4  5  6  7  8\n",
      "14 15 16 17 18 19 20      11 12 13 14 15 16 17       9 10 11 12 13 14 15\n",
      "21 22 23 24 25 26 27      18 19 20 21 22 23 24      16 17 18 19 20 21 22\n",
      "28 29 30 31               25 26 27 28 29 30         23 24 25 26 27 28 29\n",
      "                                                    30 31\n",
      "\n"
     ]
    }
   ],
   "source": [
    "from calendar import calendar\n",
    "cal = calendar(2024)\n",
    "print(cal)"
   ]
  },
  {
   "cell_type": "code",
   "execution_count": 2,
   "metadata": {},
   "outputs": [
    {
     "name": "stdout",
     "output_type": "stream",
     "text": [
      "    January 2024\n",
      "Mo Tu We Th Fr Sa Su\n",
      " 1  2  3  4  5  6  7\n",
      " 8  9 10 11 12 13 14\n",
      "15 16 17 18 19 20 21\n",
      "22 23 24 25 26 27 28\n",
      "29 30 31\n",
      "\n"
     ]
    }
   ],
   "source": [
    "### to display only month\n",
    "\n",
    "from calendar import month\n",
    "\n",
    "m = month(2024,1)\n",
    "print(m)"
   ]
  },
  {
   "cell_type": "code",
   "execution_count": 3,
   "metadata": {},
   "outputs": [
    {
     "data": {
      "text/html": [
       "<table border=\"0\" cellpadding=\"0\" cellspacing=\"0\" class=\"year\">\n",
       "<tr><th colspan=\"3\" class=\"year\">2024</th></tr><tr><td><table class=\"table table-bordered table-responsive-md\"><tr><th colspan=\"7\" class=\"month\">January</th></tr><tr><th class=\"mon\">Mon</th><th class=\"tue\">Tue</th><th class=\"wed\">Wed</th><th class=\"thu\">Thu</th><th class=\"fri\">Fri</th><th class=\"sat\">Sat</th><th class=\"sun\">Sun</th></tr><tr><td class=\"day\">1</td><td class=\"day\">2</td><td class=\"day\">3</td><td class=\"day\">4</td><td class=\"day\">5</td><td class=\"day\">6</td><td class=\"day\">7</td></tr> <tr><td class=\"day\">8</td><td class=\"day\">9</td><td class=\"day\">10</td><td class=\"day\">11</td><td class=\"day\">12</td><td class=\"day\">13</td><td class=\"day\">14</td></tr> <tr><td class=\"day\">15</td><td class=\"day\">16</td><td class=\"day\">17</td><td class=\"day\">18</td><td class=\"day\">19</td><td class=\"day\">20</td><td class=\"day\">21</td></tr> <tr><td class=\"day\">22</td><td class=\"day\">23</td><td class=\"day\">24</td><td class=\"day\">25</td><td class=\"day\">26</td><td class=\"day\">27</td><td class=\"day\">28</td></tr> <tr><td class=\"day\">29</td><td class=\"day\">30</td><td class=\"day\">31</td><td class=\"noday\">&nbsp;</td><td class=\"noday\">&nbsp;</td><td class=\"noday\">&nbsp;</td><td class=\"noday\">&nbsp;</td></tr></table></td><td><table class=\"table table-bordered table-responsive-md\"><tr><th colspan=\"7\" class=\"month\">February</th></tr><tr><th class=\"mon\">Mon</th><th class=\"tue\">Tue</th><th class=\"wed\">Wed</th><th class=\"thu\">Thu</th><th class=\"fri\">Fri</th><th class=\"sat\">Sat</th><th class=\"sun\">Sun</th></tr><tr><td class=\"noday\">&nbsp;</td><td class=\"noday\">&nbsp;</td><td class=\"noday\">&nbsp;</td><td class=\"day\">1</td><td class=\"day\">2</td><td class=\"day\">3</td><td class=\"day\">4</td></tr> <tr><td class=\"day\">5</td><td class=\"day\">6</td><td class=\"day\">7</td><td class=\"day\">8</td><td class=\"day\">9</td><td class=\"day\">10</td><td class=\"day\">11</td></tr> <tr><td class=\"day\">12</td><td class=\"day\">13</td><td class=\"day\">14</td><td class=\"day\">15</td><td class=\"day\">16</td><td class=\"day\">17</td><td class=\"day\">18</td></tr> <tr><td class=\"day\">19</td><td class=\"day\">20</td><td class=\"day\">21</td><td class=\"day\">22</td><td class=\"day\">23</td><td class=\"day\">24</td><td class=\"day\">25</td></tr> <tr><td class=\"day\">26</td><td class=\"day\">27</td><td class=\"day\">28</td><td class=\"day\">29</td><td class=\"noday\">&nbsp;</td><td class=\"noday\">&nbsp;</td><td class=\"noday\">&nbsp;</td></tr></table></td><td><table class=\"table table-bordered table-responsive-md\"><tr><th colspan=\"7\" class=\"month\">March</th></tr><tr><th class=\"mon\">Mon</th><th class=\"tue\">Tue</th><th class=\"wed\">Wed</th><th class=\"thu\">Thu</th><th class=\"fri\">Fri</th><th class=\"sat\">Sat</th><th class=\"sun\">Sun</th></tr><tr><td class=\"noday\">&nbsp;</td><td class=\"noday\">&nbsp;</td><td class=\"noday\">&nbsp;</td><td class=\"noday\">&nbsp;</td><td class=\"day\">1</td><td class=\"day\">2</td><td class=\"day\">3</td></tr> <tr><td class=\"day\">4</td><td class=\"day\">5</td><td class=\"day\">6</td><td class=\"day\">7</td><td class=\"day\">8</td><td class=\"day\">9</td><td class=\"day\">10</td></tr> <tr><td class=\"day\">11</td><td class=\"day\">12</td><td class=\"day\">13</td><td class=\"day\">14</td><td class=\"day\">15</td><td class=\"day\">16</td><td class=\"day\">17</td></tr> <tr><td class=\"day\">18</td><td class=\"day\">19</td><td class=\"day\">20</td><td class=\"day\">21</td><td class=\"day\">22</td><td class=\"day\">23</td><td class=\"day\">24</td></tr> <tr><td class=\"day\">25</td><td class=\"day\">26</td><td class=\"day\">27</td><td class=\"day\">28</td><td class=\"day\">29</td><td class=\"day\">30</td><td class=\"day\">31</td></tr></table></td></tr><tr><td><table class=\"table table-bordered table-responsive-md\"><tr><th colspan=\"7\" class=\"month\">April</th></tr><tr><th class=\"mon\">Mon</th><th class=\"tue\">Tue</th><th class=\"wed\">Wed</th><th class=\"thu\">Thu</th><th class=\"fri\">Fri</th><th class=\"sat\">Sat</th><th class=\"sun\">Sun</th></tr><tr><td class=\"day\">1</td><td class=\"day\">2</td><td class=\"day\">3</td><td class=\"day\">4</td><td class=\"day\">5</td><td class=\"day\">6</td><td class=\"day\">7</td></tr> <tr><td class=\"day\">8</td><td class=\"day\">9</td><td class=\"day\">10</td><td class=\"day\">11</td><td class=\"day\">12</td><td class=\"day\">13</td><td class=\"day\">14</td></tr> <tr><td class=\"day\">15</td><td class=\"day\">16</td><td class=\"day\">17</td><td class=\"day\">18</td><td class=\"day\">19</td><td class=\"day\">20</td><td class=\"day\">21</td></tr> <tr><td class=\"day\">22</td><td class=\"day\">23</td><td class=\"day\">24</td><td class=\"day\">25</td><td class=\"day\">26</td><td class=\"day\">27</td><td class=\"day\">28</td></tr> <tr><td class=\"day\">29</td><td class=\"day\">30</td><td class=\"noday\">&nbsp;</td><td class=\"noday\">&nbsp;</td><td class=\"noday\">&nbsp;</td><td class=\"noday\">&nbsp;</td><td class=\"noday\">&nbsp;</td></tr></table></td><td><table class=\"table table-bordered table-responsive-md\"><tr><th colspan=\"7\" class=\"month\">May</th></tr><tr><th class=\"mon\">Mon</th><th class=\"tue\">Tue</th><th class=\"wed\">Wed</th><th class=\"thu\">Thu</th><th class=\"fri\">Fri</th><th class=\"sat\">Sat</th><th class=\"sun\">Sun</th></tr><tr><td class=\"noday\">&nbsp;</td><td class=\"noday\">&nbsp;</td><td class=\"day\">1</td><td class=\"day\">2</td><td class=\"day\">3</td><td class=\"day\">4</td><td class=\"day\">5</td></tr> <tr><td class=\"day\">6</td><td class=\"day\">7</td><td class=\"day\">8</td><td class=\"day\">9</td><td class=\"day\">10</td><td class=\"day\">11</td><td class=\"day\">12</td></tr> <tr><td class=\"day\">13</td><td class=\"day\">14</td><td class=\"day\">15</td><td class=\"day\">16</td><td class=\"day\">17</td><td class=\"day\">18</td><td class=\"day\">19</td></tr> <tr><td class=\"day\">20</td><td class=\"day\">21</td><td class=\"day\">22</td><td class=\"day\">23</td><td class=\"day\">24</td><td class=\"day\">25</td><td class=\"day\">26</td></tr> <tr><td class=\"day\">27</td><td class=\"day\">28</td><td class=\"day\">29</td><td class=\"day\">30</td><td class=\"day\">31</td><td class=\"noday\">&nbsp;</td><td class=\"noday\">&nbsp;</td></tr></table></td><td><table class=\"table table-bordered table-responsive-md\"><tr><th colspan=\"7\" class=\"month\">June</th></tr><tr><th class=\"mon\">Mon</th><th class=\"tue\">Tue</th><th class=\"wed\">Wed</th><th class=\"thu\">Thu</th><th class=\"fri\">Fri</th><th class=\"sat\">Sat</th><th class=\"sun\">Sun</th></tr><tr><td class=\"noday\">&nbsp;</td><td class=\"noday\">&nbsp;</td><td class=\"noday\">&nbsp;</td><td class=\"noday\">&nbsp;</td><td class=\"noday\">&nbsp;</td><td class=\"day\">1</td><td class=\"day\">2</td></tr> <tr><td class=\"day\">3</td><td class=\"day\">4</td><td class=\"day\">5</td><td class=\"day\">6</td><td class=\"day\">7</td><td class=\"day\">8</td><td class=\"day\">9</td></tr> <tr><td class=\"day\">10</td><td class=\"day\">11</td><td class=\"day\">12</td><td class=\"day\">13</td><td class=\"day\">14</td><td class=\"day\">15</td><td class=\"day\">16</td></tr> <tr><td class=\"day\">17</td><td class=\"day\">18</td><td class=\"day\">19</td><td class=\"day\">20</td><td class=\"day\">21</td><td class=\"day\">22</td><td class=\"day\">23</td></tr> <tr><td class=\"day\">24</td><td class=\"day\">25</td><td class=\"day\">26</td><td class=\"day\">27</td><td class=\"day\">28</td><td class=\"day\">29</td><td class=\"day\">30</td></tr></table></td></tr><tr><td><table class=\"table table-bordered table-responsive-md\"><tr><th colspan=\"7\" class=\"month\">July</th></tr><tr><th class=\"mon\">Mon</th><th class=\"tue\">Tue</th><th class=\"wed\">Wed</th><th class=\"thu\">Thu</th><th class=\"fri\">Fri</th><th class=\"sat\">Sat</th><th class=\"sun\">Sun</th></tr><tr><td class=\"day\">1</td><td class=\"day\">2</td><td class=\"day\">3</td><td class=\"day\">4</td><td class=\"day\">5</td><td class=\"day\">6</td><td class=\"day\">7</td></tr> <tr><td class=\"day\">8</td><td class=\"day\">9</td><td class=\"day\">10</td><td class=\"day\">11</td><td class=\"day\">12</td><td class=\"day\">13</td><td class=\"day\">14</td></tr> <tr><td class=\"day\">15</td><td class=\"day\">16</td><td class=\"day\">17</td><td class=\"day\">18</td><td class=\"day\">19</td><td class=\"day\">20</td><td class=\"day\">21</td></tr> <tr><td class=\"day\">22</td><td class=\"day\">23</td><td class=\"day\">24</td><td class=\"day\">25</td><td class=\"day\">26</td><td class=\"day\">27</td><td class=\"day\">28</td></tr> <tr><td class=\"day\">29</td><td class=\"day\">30</td><td class=\"day\">31</td><td class=\"noday\">&nbsp;</td><td class=\"noday\">&nbsp;</td><td class=\"noday\">&nbsp;</td><td class=\"noday\">&nbsp;</td></tr></table></td><td><table class=\"table table-bordered table-responsive-md\"><tr><th colspan=\"7\" class=\"month\">August</th></tr><tr><th class=\"mon\">Mon</th><th class=\"tue\">Tue</th><th class=\"wed\">Wed</th><th class=\"thu\">Thu</th><th class=\"fri\">Fri</th><th class=\"sat\">Sat</th><th class=\"sun\">Sun</th></tr><tr><td class=\"noday\">&nbsp;</td><td class=\"noday\">&nbsp;</td><td class=\"noday\">&nbsp;</td><td class=\"day\">1</td><td class=\"day\">2</td><td class=\"day\">3</td><td class=\"day\">4</td></tr> <tr><td class=\"day\">5</td><td class=\"day\">6</td><td class=\"day\">7</td><td class=\"day\">8</td><td class=\"day\">9</td><td class=\"day\">10</td><td class=\"day\">11</td></tr> <tr><td class=\"day\">12</td><td class=\"day\">13</td><td class=\"day\">14</td><td class=\"day\">15</td><td class=\"day\">16</td><td class=\"day\">17</td><td class=\"day\">18</td></tr> <tr><td class=\"day\">19</td><td class=\"day\">20</td><td class=\"day\">21</td><td class=\"day\">22</td><td class=\"day\">23</td><td class=\"day\">24</td><td class=\"day\">25</td></tr> <tr><td class=\"day\">26</td><td class=\"day\">27</td><td class=\"day\">28</td><td class=\"day\">29</td><td class=\"day\">30</td><td class=\"day\">31</td><td class=\"noday\">&nbsp;</td></tr></table></td><td><table class=\"table table-bordered table-responsive-md\"><tr><th colspan=\"7\" class=\"month\">September</th></tr><tr><th class=\"mon\">Mon</th><th class=\"tue\">Tue</th><th class=\"wed\">Wed</th><th class=\"thu\">Thu</th><th class=\"fri\">Fri</th><th class=\"sat\">Sat</th><th class=\"sun\">Sun</th></tr><tr><td class=\"noday\">&nbsp;</td><td class=\"noday\">&nbsp;</td><td class=\"noday\">&nbsp;</td><td class=\"noday\">&nbsp;</td><td class=\"noday\">&nbsp;</td><td class=\"noday\">&nbsp;</td><td class=\"day\">1</td></tr> <tr><td class=\"day\">2</td><td class=\"day\">3</td><td class=\"day\">4</td><td class=\"day\">5</td><td class=\"day\">6</td><td class=\"day\">7</td><td class=\"day\">8</td></tr> <tr><td class=\"day\">9</td><td class=\"day\">10</td><td class=\"day\">11</td><td class=\"day\">12</td><td class=\"day\">13</td><td class=\"day\">14</td><td class=\"day\">15</td></tr> <tr><td class=\"day\">16</td><td class=\"day\">17</td><td class=\"day\">18</td><td class=\"day\">19</td><td class=\"day\">20</td><td class=\"day\">21</td><td class=\"day\">22</td></tr> <tr><td class=\"day\">23</td><td class=\"day\">24</td><td class=\"day\">25</td><td class=\"day\">26</td><td class=\"day\">27</td><td class=\"day\">28</td><td class=\"day\">29</td></tr> <tr><td class=\"day\">30</td><td class=\"noday\">&nbsp;</td><td class=\"noday\">&nbsp;</td><td class=\"noday\">&nbsp;</td><td class=\"noday\">&nbsp;</td><td class=\"noday\">&nbsp;</td><td class=\"noday\">&nbsp;</td></tr></table></td></tr><tr><td><table class=\"table table-bordered table-responsive-md\"><tr><th colspan=\"7\" class=\"month\">October</th></tr><tr><th class=\"mon\">Mon</th><th class=\"tue\">Tue</th><th class=\"wed\">Wed</th><th class=\"thu\">Thu</th><th class=\"fri\">Fri</th><th class=\"sat\">Sat</th><th class=\"sun\">Sun</th></tr><tr><td class=\"noday\">&nbsp;</td><td class=\"day\">1</td><td class=\"day\">2</td><td class=\"day\">3</td><td class=\"day\">4</td><td class=\"day\">5</td><td class=\"day\">6</td></tr> <tr><td class=\"day\">7</td><td class=\"day\">8</td><td class=\"day\">9</td><td class=\"day\">10</td><td class=\"day\">11</td><td class=\"day\">12</td><td class=\"day\">13</td></tr> <tr><td class=\"day\">14</td><td class=\"day\">15</td><td class=\"day\">16</td><td class=\"day\">17</td><td class=\"day\">18</td><td class=\"day\">19</td><td class=\"day\">20</td></tr> <tr><td class=\"day\">21</td><td class=\"day\">22</td><td class=\"day\">23</td><td class=\"day\">24</td><td class=\"day\">25</td><td class=\"day\">26</td><td class=\"day\">27</td></tr> <tr><td class=\"day\">28</td><td class=\"day\">29</td><td class=\"day\">30</td><td class=\"day\">31</td><td class=\"noday\">&nbsp;</td><td class=\"noday\">&nbsp;</td><td class=\"noday\">&nbsp;</td></tr></table></td><td><table class=\"table table-bordered table-responsive-md\"><tr><th colspan=\"7\" class=\"month\">November</th></tr><tr><th class=\"mon\">Mon</th><th class=\"tue\">Tue</th><th class=\"wed\">Wed</th><th class=\"thu\">Thu</th><th class=\"fri\">Fri</th><th class=\"sat\">Sat</th><th class=\"sun\">Sun</th></tr><tr><td class=\"noday\">&nbsp;</td><td class=\"noday\">&nbsp;</td><td class=\"noday\">&nbsp;</td><td class=\"noday\">&nbsp;</td><td class=\"day\">1</td><td class=\"day\">2</td><td class=\"day\">3</td></tr> <tr><td class=\"day\">4</td><td class=\"day\">5</td><td class=\"day\">6</td><td class=\"day\">7</td><td class=\"day\">8</td><td class=\"day\">9</td><td class=\"day\">10</td></tr> <tr><td class=\"day\">11</td><td class=\"day\">12</td><td class=\"day\">13</td><td class=\"day\">14</td><td class=\"day\">15</td><td class=\"day\">16</td><td class=\"day\">17</td></tr> <tr><td class=\"day\">18</td><td class=\"day\">19</td><td class=\"day\">20</td><td class=\"day\">21</td><td class=\"day\">22</td><td class=\"day\">23</td><td class=\"day\">24</td></tr> <tr><td class=\"day\">25</td><td class=\"day\">26</td><td class=\"day\">27</td><td class=\"day\">28</td><td class=\"day\">29</td><td class=\"day\">30</td><td class=\"noday\">&nbsp;</td></tr></table></td><td><table class=\"table table-bordered table-responsive-md\"><tr><th colspan=\"7\" class=\"month\">December</th></tr><tr><th class=\"mon\">Mon</th><th class=\"tue\">Tue</th><th class=\"wed\">Wed</th><th class=\"thu\">Thu</th><th class=\"fri\">Fri</th><th class=\"sat\">Sat</th><th class=\"sun\">Sun</th></tr><tr><td class=\"noday\">&nbsp;</td><td class=\"noday\">&nbsp;</td><td class=\"noday\">&nbsp;</td><td class=\"noday\">&nbsp;</td><td class=\"noday\">&nbsp;</td><td class=\"noday\">&nbsp;</td><td class=\"day\">1</td></tr> <tr><td class=\"day\">2</td><td class=\"day\">3</td><td class=\"day\">4</td><td class=\"day\">5</td><td class=\"day\">6</td><td class=\"day\">7</td><td class=\"day\">8</td></tr> <tr><td class=\"day\">9</td><td class=\"day\">10</td><td class=\"day\">11</td><td class=\"day\">12</td><td class=\"day\">13</td><td class=\"day\">14</td><td class=\"day\">15</td></tr> <tr><td class=\"day\">16</td><td class=\"day\">17</td><td class=\"day\">18</td><td class=\"day\">19</td><td class=\"day\">20</td><td class=\"day\">21</td><td class=\"day\">22</td></tr> <tr><td class=\"day\">23</td><td class=\"day\">24</td><td class=\"day\">25</td><td class=\"day\">26</td><td class=\"day\">27</td><td class=\"day\">28</td><td class=\"day\">29</td></tr> <tr><td class=\"day\">30</td><td class=\"day\">31</td><td class=\"noday\">&nbsp;</td><td class=\"noday\">&nbsp;</td><td class=\"noday\">&nbsp;</td><td class=\"noday\">&nbsp;</td><td class=\"noday\">&nbsp;</td></tr></table></td></tr></table>"
      ],
      "text/plain": [
       "<IPython.core.display.HTML object>"
      ]
     },
     "execution_count": 3,
     "metadata": {},
     "output_type": "execute_result"
    }
   ],
   "source": [
    "from IPython.display import HTML\n",
    "from calendar import HTMLCalendar\n",
    "\n",
    "HTML(\"\"\"\n",
    "<style>\n",
    "    table { font-size: 16px; }\n",
    "    th, td { padding: 10px; text-align: center; }\n",
    "    th { background-color: #f2f2f2; }\n",
    "    .day { width: 40px; height: 40px; }\n",
    "    .noday { width: 40px; height: 40px; color: #d3d3d3; }\n",
    "</style>\n",
    "\"\"\")\n",
    "class FullHTMLCalendar(HTMLCalendar):\n",
    "    def formatday(self, day, weekday, month, year):\n",
    "        if day == 0:\n",
    "            return '<td class=\"noday\">&nbsp;</td>'  # Day is outside month\n",
    "        else:\n",
    "            return f'<td class=\"day\">{day}</td>'\n",
    "\n",
    "    def formatweek(self, theweek, month, year):\n",
    "        return f'<tr>{\"\".join(self.formatday(d, wd, month, year) for (d, wd) in theweek)}</tr>'\n",
    "\n",
    "    def formatmonth(self, year, month, withyear=True):\n",
    "        return f'<table class=\"table table-bordered table-responsive-md\">{self.formatmonthname(year, month, withyear)}{self.formatweekheader()}{\" \".join(self.formatweek(week, month, year) for week in self.monthdays2calendar(year, month))}</table>'\n",
    "\n",
    "cal = FullHTMLCalendar().formatyear(2024, 3)\n",
    "HTML(cal)\n"
   ]
  }
 ],
 "metadata": {
  "kernelspec": {
   "display_name": "Python 3",
   "language": "python",
   "name": "python3"
  },
  "language_info": {
   "codemirror_mode": {
    "name": "ipython",
    "version": 3
   },
   "file_extension": ".py",
   "mimetype": "text/x-python",
   "name": "python",
   "nbconvert_exporter": "python",
   "pygments_lexer": "ipython3",
   "version": "3.10.13"
  }
 },
 "nbformat": 4,
 "nbformat_minor": 2
}
